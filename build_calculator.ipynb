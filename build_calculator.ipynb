{
  "nbformat": 4,
  "nbformat_minor": 0,
  "metadata": {
    "colab": {
      "provenance": [],
      "authorship_tag": "ABX9TyNE8bF/sa9bj5+YRipJ59hz",
      "include_colab_link": true
    },
    "kernelspec": {
      "name": "python3",
      "display_name": "Python 3"
    },
    "language_info": {
      "name": "python"
    }
  },
  "cells": [
    {
      "cell_type": "markdown",
      "metadata": {
        "id": "view-in-github",
        "colab_type": "text"
      },
      "source": [
        "<a href=\"https://colab.research.google.com/github/Brendan-Ronan/100_days/blob/main/build_calculator.ipynb\" target=\"_parent\"><img src=\"https://colab.research.google.com/assets/colab-badge.svg\" alt=\"Open In Colab\"/></a>"
      ]
    },
    {
      "cell_type": "code",
      "execution_count": 12,
      "metadata": {
        "colab": {
          "base_uri": "https://localhost:8080/"
        },
        "id": "6iV0NtD2M6CE",
        "outputId": "08200a3b-4c21-465e-ec1e-c43e981091dd"
      },
      "outputs": [
        {
          "output_type": "stream",
          "name": "stdout",
          "text": [
            "Hello, this is a DIY Calculator built by Brendan in Python\n",
            "Enter first number: 50000\n",
            "Enter second number: 6\n",
            "Choose an operation: \n",
            "1 = Addition\n",
            "2 = Subtraction\n",
            "3 = Multiplication\n",
            "4 = Division\n",
            "3\n",
            "50000.0 * 6.0 = 300000.0\n"
          ]
        }
      ],
      "source": [
        "print(\"Hello, this is a DIY Calculator built by Brendan in Python\")\n",
        "\n",
        "# define the functions\n",
        "def add(num_1, num_2):\n",
        "    return num_1 + num_2\n",
        "\n",
        "def subtract(num_1, num_2):\n",
        "    return num_1 - num_2\n",
        "\n",
        "def multiply(num_1, num_2):\n",
        "    return num_1 * num_2\n",
        "\n",
        "def divide(num_1, num_2):\n",
        "    if num_2 == 0:\n",
        "        raise ValueError(\"Cannot divide by zero\")\n",
        "    return num_1 / num_2\n",
        "\n",
        "# user input\n",
        "try:\n",
        "    num_1 = float(input(\"Enter first number: \"))\n",
        "    num_2 = float(input(\"Enter second number: \"))\n",
        "    operation = int(input(\"Choose an operation: \\n\" \\\n",
        "                    \"1 = Addition\\n\" \\\n",
        "                    \"2 = Subtraction\\n\" \\\n",
        "                    \"3 = Multiplication\\n\" \\\n",
        "                    \"4 = Division\\n\"))\n",
        "\n",
        "    # calculations\n",
        "    if operation == 1:\n",
        "        solution = add(num_1, num_2)\n",
        "        print(f\"{num_1} + {num_2} = {solution}\")\n",
        "    elif operation == 2:\n",
        "        solution = subtract(num_1, num_2)\n",
        "        print(f\"{num_1} - {num_2} = {solution}\")\n",
        "    elif operation == 3:\n",
        "        solution = multiply(num_1, num_2)\n",
        "        print(f\"{num_1} * {num_2} = {solution}\")\n",
        "    elif operation == 4:\n",
        "        solution = divide(num_1, num_2)\n",
        "        print(f\"{num_1} / {num_2} = {solution}\")\n",
        "    else:\n",
        "        print(\"Invalid input. Ensure you're entering numbers.\")\n",
        "except ValueError as e:\n",
        "    print(f\"Error: {e}. Please enter valid numeric values.\")\n",
        "except Exception as e:\n",
        "    print(f\"Unexpected error: {e}. Check your input.\")"
      ]
    }
  ]
}