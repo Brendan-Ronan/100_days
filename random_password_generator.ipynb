{
  "nbformat": 4,
  "nbformat_minor": 0,
  "metadata": {
    "colab": {
      "provenance": [],
      "authorship_tag": "ABX9TyPkSx3gybh2o61BQPBRLrbK",
      "include_colab_link": true
    },
    "kernelspec": {
      "name": "python3",
      "display_name": "Python 3"
    },
    "language_info": {
      "name": "python"
    }
  },
  "cells": [
    {
      "cell_type": "markdown",
      "metadata": {
        "id": "view-in-github",
        "colab_type": "text"
      },
      "source": [
        "<a href=\"https://colab.research.google.com/github/Brendan-Ronan/100_days/blob/main/random_password_generator.ipynb\" target=\"_parent\"><img src=\"https://colab.research.google.com/assets/colab-badge.svg\" alt=\"Open In Colab\"/></a>"
      ]
    },
    {
      "cell_type": "code",
      "execution_count": 5,
      "metadata": {
        "colab": {
          "base_uri": "https://localhost:8080/"
        },
        "id": "VM1AEf4QigrB",
        "outputId": "4a8dc252-e48d-4273-cf60-b5fabbc7d40c"
      },
      "outputs": [
        {
          "output_type": "stream",
          "name": "stdout",
          "text": [
            "Hello, this is Brendan's DIY Random Password Generator made in Python\n",
            "\n",
            "How many characters: \n",
            "10\n",
            "Random Password:  i(i4cA=y8&\n"
          ]
        }
      ],
      "source": [
        "# Random Password Generator\n",
        "\n",
        "import random\n",
        "import string\n",
        "\n",
        "print(\"Hello, this is Brendan's DIY Random Password Generator made in Python\\n\")\n",
        "\n",
        "# User input\n",
        "length = int(input(\"How many characters: \\n\"))\n",
        "\n",
        "def generate_password(length):\n",
        "\n",
        "    characters = string.ascii_letters + string.digits + string.punctuation\n",
        "    password = ''.join(random.choice(characters) for _ in range(length))\n",
        "\n",
        "    return password\n",
        "\n",
        "random_password = generate_password(length)\n",
        "print(\"Random Password: \", random_password)\n",
        "\n",
        "\n",
        "\n",
        "\n",
        "\n",
        "\n"
      ]
    }
  ]
}