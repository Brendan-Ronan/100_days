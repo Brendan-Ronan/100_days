{
  "nbformat": 4,
  "nbformat_minor": 0,
  "metadata": {
    "colab": {
      "provenance": [],
      "authorship_tag": "ABX9TyOdOXIJNOIO0iZQw2C235Eg",
      "include_colab_link": true
    },
    "kernelspec": {
      "name": "python3",
      "display_name": "Python 3"
    },
    "language_info": {
      "name": "python"
    }
  },
  "cells": [
    {
      "cell_type": "markdown",
      "metadata": {
        "id": "view-in-github",
        "colab_type": "text"
      },
      "source": [
        "<a href=\"https://colab.research.google.com/github/Brendan-Ronan/100_days/blob/main/tic_tac_toe.ipynb\" target=\"_parent\"><img src=\"https://colab.research.google.com/assets/colab-badge.svg\" alt=\"Open In Colab\"/></a>"
      ]
    },
    {
      "cell_type": "code",
      "execution_count": 3,
      "metadata": {
        "colab": {
          "base_uri": "https://localhost:8080/"
        },
        "id": "PFyOYKcxziuS",
        "outputId": "e1126638-73ed-48f9-dc97-7e14adab79b6"
      },
      "outputs": [
        {
          "output_type": "stream",
          "name": "stdout",
          "text": [
            "Hello, lets play Rock Paper Scissors!\n",
            "What is your name? Banana Butt\n",
            "Enter your move, Banana Butt: Rock\n",
            "Computer Move: Scissors\n",
            "Banana Butt wins! \n",
            "            Score\n",
            "            Computer: 0\n",
            "            User: 1\n",
            "            \n",
            "Enter your move, Banana Butt: Scissors\n",
            "Computer Move: Rock\n",
            "Computer wins! \n",
            "            Score\n",
            "            Computer: 1\n",
            "            User: 1\n",
            "            \n",
            "Enter your move, Banana Butt: Paper\n",
            "Computer Move: Rock\n",
            "Banana Butt wins! \n",
            "            Score\n",
            "            Computer: 1\n",
            "            User: 2\n",
            "            \n",
            "Enter your move, Banana Butt: Rock\n",
            "Computer Move: Paper\n",
            "Computer wins! \n",
            "            Score\n",
            "            Computer: 2\n",
            "            User: 2\n",
            "            \n",
            "Enter your move, Banana Butt: Papaer\n",
            "Enter a valid move \n",
            "Enter your move, Banana Butt: Paper\n",
            "Computer Move: Rock\n",
            "Banana Butt wins! \n",
            "            Score\n",
            "            Computer: 2\n",
            "            User: 3\n",
            "            \n",
            "Banana Butt wins the game!\n"
          ]
        }
      ],
      "source": [
        "### Rock Paper Scissors\n",
        "import random\n",
        "\n",
        "print(\"Hello, lets play Rock Paper Scissors!\")\n",
        "name = input(\"What is your name? \")\n",
        "\n",
        "def tic_tac():\n",
        "    user_wins = 0\n",
        "    cpu_wins = 0\n",
        "\n",
        "    while user_wins < 3 and cpu_wins < 3:\n",
        "        # User input\n",
        "        moves = [\"Rock\", \"Paper\", \"Scissors\"]\n",
        "        user_move = input(f\"Enter your move, {name}: \")\n",
        "\n",
        "        # Validate user input\n",
        "        while user_move not in moves:\n",
        "            print(\"Enter a valid move \")\n",
        "            user_move = input(f\"Enter your move, {name}: \")\n",
        "\n",
        "        # Random CPU move generator\n",
        "        cpu_move = random.choice(moves)\n",
        "        print(f\"Computer Move: {cpu_move}\")\n",
        "\n",
        "        # Move comparison\n",
        "        if cpu_move == user_move:\n",
        "            print(\"Tie!\")\n",
        "        elif (cpu_move == 'Rock' and user_move == 'Scissors') or \\\n",
        "            (cpu_move == 'Scissors' and user_move == 'Paper') or \\\n",
        "            (cpu_move == 'Paper' and user_move == 'Rock'):\n",
        "            cpu_wins += 1\n",
        "            print(f\"\"\"Computer wins!\n",
        "            Score\n",
        "            Computer: {cpu_wins}\n",
        "            User: {user_wins}\n",
        "            \"\"\")\n",
        "        else:\n",
        "            user_wins += 1\n",
        "            print(f\"\"\"{name} wins!\n",
        "            Score\n",
        "            Computer: {cpu_wins}\n",
        "            User: {user_wins}\n",
        "            \"\"\")\n",
        "\n",
        "    if user_wins == 3:\n",
        "        print(f\"{name} wins the game!\")\n",
        "    else:\n",
        "        print(\"Computer wins the game!\")\n",
        "\n",
        "# Call the funcrtion\n",
        "tic_tac()"
      ]
    }
  ]
}
