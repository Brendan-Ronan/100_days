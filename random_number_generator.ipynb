{
  "nbformat": 4,
  "nbformat_minor": 0,
  "metadata": {
    "colab": {
      "provenance": [],
      "authorship_tag": "ABX9TyPzDya3IdnfE2REcHRKA6il",
      "include_colab_link": true
    },
    "kernelspec": {
      "name": "python3",
      "display_name": "Python 3"
    },
    "language_info": {
      "name": "python"
    }
  },
  "cells": [
    {
      "cell_type": "markdown",
      "metadata": {
        "id": "view-in-github",
        "colab_type": "text"
      },
      "source": [
        "<a href=\"https://colab.research.google.com/github/Brendan-Ronan/100_days/blob/main/random_number_generator.ipynb\" target=\"_parent\"><img src=\"https://colab.research.google.com/assets/colab-badge.svg\" alt=\"Open In Colab\"/></a>"
      ]
    },
    {
      "cell_type": "code",
      "execution_count": 15,
      "metadata": {
        "id": "7m_6AL3SOqHG",
        "colab": {
          "base_uri": "https://localhost:8080/"
        },
        "outputId": "9a6b5356-0e19-4ae5-bc0f-a269ae612e9c"
      },
      "outputs": [
        {
          "output_type": "stream",
          "name": "stdout",
          "text": [
            "What is your name? Brendan\n",
            "\n",
            "    Hello Brendan, let's play a game!\n",
            "\n",
            "    I pick a number between 0-50, and you have 5 chances to guess. \n",
            "\n",
            "    With each guess, I will confirm if you are getting closer.\n",
            "\n",
            "Guess a number: 25\n",
            "Higher...\n",
            "Guess a number: 37\n",
            "Lower...\n",
            "Guess a number: 30\n",
            "Higher...\n",
            "Guess a number: 34\n",
            "Lower...\n",
            "Guess a number: 33\n",
            "Lower...\n",
            "Game over! The number was 31\n"
          ]
        }
      ],
      "source": [
        "# Guess a random number\n",
        "import random\n",
        "\n",
        "# Greetings\n",
        "user_name = input(\"What is your name? \")\n",
        "print(f\"\"\"\n",
        "    Hello {user_name}, let's play a game!\n",
        "\n",
        "    I pick a number between 0-50, and you have 5 chances to guess.\n",
        "\n",
        "    With each guess, I will confirm if you are getting closer.\n",
        "\"\"\")\n",
        "\n",
        "def guessing_game():\n",
        "    guess_count = 0\n",
        "\n",
        "    # Random Number Generator\n",
        "    possible_numbers = range(0,50)\n",
        "    random_number = random.choice(possible_numbers)\n",
        "\n",
        "    # User input\n",
        "    while guess_count < 5:\n",
        "        user_guess = int(input(\"Guess a number: \"))\n",
        "        guess_count += 1\n",
        "        if user_guess == random_number:\n",
        "            print(f\"You got it, {user_name}!\")\n",
        "            break\n",
        "        elif user_guess < random_number:\n",
        "            print(\"Higher...\")\n",
        "        elif user_guess > random_number:\n",
        "            print(\"Lower...\")\n",
        "        else:\n",
        "            break\n",
        "    if guess_count == 5:\n",
        "        print(f\"Game over! The number was {random_number}\")\n",
        "\n",
        "\n",
        "guessing_game()\n",
        "\n",
        "\n",
        "\n",
        "\n",
        "\n",
        "\n",
        "\n",
        "\n",
        "\n",
        "\n"
      ]
    }
  ]
}