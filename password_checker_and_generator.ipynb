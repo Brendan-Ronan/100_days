{
  "nbformat": 4,
  "nbformat_minor": 0,
  "metadata": {
    "colab": {
      "provenance": [],
      "authorship_tag": "ABX9TyNcIGkhSApm7jD04LCbFdXa",
      "include_colab_link": true
    },
    "kernelspec": {
      "name": "python3",
      "display_name": "Python 3"
    },
    "language_info": {
      "name": "python"
    }
  },
  "cells": [
    {
      "cell_type": "markdown",
      "metadata": {
        "id": "view-in-github",
        "colab_type": "text"
      },
      "source": [
        "<a href=\"https://colab.research.google.com/github/Brendan-Ronan/100_days/blob/main/password_checker_and_generator.ipynb\" target=\"_parent\"><img src=\"https://colab.research.google.com/assets/colab-badge.svg\" alt=\"Open In Colab\"/></a>"
      ]
    },
    {
      "cell_type": "code",
      "execution_count": 43,
      "metadata": {
        "id": "Eq_AqcAVutLn",
        "colab": {
          "base_uri": "https://localhost:8080/"
        },
        "outputId": "5e1dd1e9-879f-473b-8221-a923fd322a80"
      },
      "outputs": [
        {
          "output_type": "stream",
          "name": "stdout",
          "text": [
            "Choose an option: \n",
            "1: Create password\n",
            "2: Generate random password\n",
            "1\n",
            "Enter your password: ultra\n",
            "Confirm password: ultra\n",
            "Your password: ultra\n",
            "Password is weak. Improve by adding complexity.\n"
          ]
        }
      ],
      "source": [
        "import random\n",
        "import string\n",
        "\n",
        "\n",
        "def get_user_choice():\n",
        "    # User choice\n",
        "    while True:\n",
        "        try:\n",
        "            choice = int(input(\"Choose an option: \\n\" \\\n",
        "                \"1: Create password\\n\" \\\n",
        "                \"2: Generate random password\\n\"))\n",
        "            if choice in [1, 2]:\n",
        "                break\n",
        "            else:\n",
        "                print(\"Invalid entry. Enter 1 or 2.\")\n",
        "        except ValueError:\n",
        "            print(\"Invalid entry. Enter 1 or 2.\")\n",
        "\n",
        "    return choice\n",
        "\n",
        "def create_user_password():\n",
        "    # User creates their password\n",
        "    password = input(\"Enter your password: \")\n",
        "    confirm = input(\"Confirm password: \")\n",
        "\n",
        "    while password != confirm:\n",
        "        print(\"Passwords do not match. Try again.\")\n",
        "        password = input(\"Enter your password: \")\n",
        "        confirm = input(\"Confirm password: \")\n",
        "\n",
        "    print(f\"Your password: {password}\")\n",
        "    check_strength(password)\n",
        "\n",
        "def check_strength(password):\n",
        "    # Check user's password strength\n",
        "    has_uppercase = any(char.isupper() for char in password)\n",
        "    has_lowercase = any(char.islower() for char in password)\n",
        "    has_special = any(not char.isalnum() for char in password)\n",
        "    is_long = len(password) >= 10\n",
        "\n",
        "    criteria = {\n",
        "        'has_uppercase': has_uppercase,\n",
        "        'has_lowercase': has_lowercase,\n",
        "        'has_special': has_special,\n",
        "        'is_long': is_long\n",
        "    }\n",
        "\n",
        "    strength_count = sum(criteria.values())\n",
        "\n",
        "    if strength_count == 1:\n",
        "        print(\"Password is weak. Improve by adding complexity.\")\n",
        "    elif strength_count == 2:\n",
        "        print(\"Password is moderately strong. Consider additional improvements.\")\n",
        "    elif strength_count == 3:\n",
        "        print(\"Password is strong.\")\n",
        "    else:\n",
        "        print(\"Password is very strong. Great job!\")\n",
        "\n",
        "def generate_random_password():\n",
        "    # Generate a random password\n",
        "    length = int(input(\"How many characters: \\n\"))\n",
        "    characters = string.ascii_letters + string.digits + string.punctuation\n",
        "    random_password = ''.join(random.choice(characters) for _ in range(length))\n",
        "    print(f\"Random Password: {random_password}\")\n",
        "\n",
        "def create_password():\n",
        "    # Main function to handle user's password creation or random password generation\n",
        "    choice = get_user_choice()\n",
        "\n",
        "    if choice == 1:\n",
        "        create_user_password()\n",
        "    elif choice == 2:\n",
        "        generate_random_password()\n",
        "    else:\n",
        "        print(\"Invalid entry. Try again\")\n",
        "\n",
        "# Run the program\n",
        "create_password()\n",
        "\n",
        "\n",
        "\n",
        "\n",
        "\n"
      ]
    }
  ]
}